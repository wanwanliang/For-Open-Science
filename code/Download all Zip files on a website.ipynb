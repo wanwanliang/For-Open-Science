{
 "cells": [
  {
   "cell_type": "markdown",
   "metadata": {},
   "source": [
    "###### This code shows how to download all zipfiles on a website using selenium"
   ]
  },
  {
   "cell_type": "code",
   "execution_count": 1,
   "metadata": {},
   "outputs": [],
   "source": [
    "from selenium import webdriver\n",
    "import time\n",
    "import os\n",
    "import numpy as np\n",
    "import pandas as pd"
   ]
  },
  {
   "cell_type": "markdown",
   "metadata": {},
   "source": [
    "######  First add the url to driver"
   ]
  },
  {
   "cell_type": "code",
   "execution_count": 7,
   "metadata": {},
   "outputs": [],
   "source": [
    "# start webdriver and load the website to do the scrapping\n",
    "driver=webdriver.Chrome()\n",
    "url=\"view-source:https://www2.census.gov/geo/tiger/TIGER2019/ROADS/\"\n",
    "driver.get(url)\n",
    "time.sleep(2)"
   ]
  },
  {
   "cell_type": "markdown",
   "metadata": {},
   "source": [
    "#### Find all the links on the website"
   ]
  },
  {
   "cell_type": "code",
   "execution_count": 8,
   "metadata": {},
   "outputs": [
    {
     "data": {
      "text/plain": [
       "[<selenium.webdriver.remote.webelement.WebElement (session=\"6e6cd76b0e7c0d25dcf536cdb0492cb2\", element=\"fe4bf70b-04bd-407b-9a49-8a9ce641bff6\")>,\n",
       " <selenium.webdriver.remote.webelement.WebElement (session=\"6e6cd76b0e7c0d25dcf536cdb0492cb2\", element=\"43c49782-a12e-4169-8834-d8532c84212d\")>,\n",
       " <selenium.webdriver.remote.webelement.WebElement (session=\"6e6cd76b0e7c0d25dcf536cdb0492cb2\", element=\"bd51be8e-7a01-40e0-8f53-976324951e51\")>,\n",
       " <selenium.webdriver.remote.webelement.WebElement (session=\"6e6cd76b0e7c0d25dcf536cdb0492cb2\", element=\"1b306a50-3718-4152-8133-64337c86e4e6\")>,\n",
       " <selenium.webdriver.remote.webelement.WebElement (session=\"6e6cd76b0e7c0d25dcf536cdb0492cb2\", element=\"7acce9f3-ac54-47f6-9217-8065645ffe42\")>]"
      ]
     },
     "execution_count": 8,
     "metadata": {},
     "output_type": "execute_result"
    }
   ],
   "source": [
    "# find the button where we need to click in order to download data. the class of that button in cabi named \"Product_export-sml\"\n",
    "links= driver.find_elements_by_xpath(\"//a[@href] [contains(.,'roads.zip')]\")\n",
    "links[1:6]"
   ]
  },
  {
   "cell_type": "code",
   "execution_count": null,
   "metadata": {},
   "outputs": [],
   "source": [
    "len(links)"
   ]
  },
  {
   "cell_type": "markdown",
   "metadata": {},
   "source": [
    "#### Download the data using a loop, just run the first 10 to test the code here."
   ]
  },
  {
   "cell_type": "code",
   "execution_count": 9,
   "metadata": {},
   "outputs": [],
   "source": [
    "for i in np.arange(10): \n",
    "    links[i].click()\n",
    "    time.sleep(5)\n",
    "\n",
    "driver.quit()"
   ]
  }
 ],
 "metadata": {
  "kernelspec": {
   "display_name": "Python 3",
   "language": "python",
   "name": "python3"
  },
  "language_info": {
   "codemirror_mode": {
    "name": "ipython",
    "version": 3
   },
   "file_extension": ".py",
   "mimetype": "text/x-python",
   "name": "python",
   "nbconvert_exporter": "python",
   "pygments_lexer": "ipython3",
   "version": "3.6.8"
  }
 },
 "nbformat": 4,
 "nbformat_minor": 2
}

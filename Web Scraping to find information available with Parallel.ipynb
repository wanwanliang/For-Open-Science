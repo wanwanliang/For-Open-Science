{
 "cells": [
  {
   "cell_type": "markdown",
   "metadata": {},
   "source": [
    "###### cabi.org has Datasheet for more than 10K species, and distribution map is not availiable for most species.  The code here checks the availability of distribution map for all species on CABI that has a datasheet. "
   ]
  },
  {
   "cell_type": "code",
   "execution_count": 1,
   "metadata": {},
   "outputs": [],
   "source": [
    "# Load libraries\n",
    "import pandas as pd\n",
    "import numpy as np\n",
    "import os\n",
    "import requests\n",
    "from bs4 import BeautifulSoup\n",
    "import multiprocessing\n",
    "from joblib import Parallel, delayed\n",
    "import time"
   ]
  },
  {
   "cell_type": "markdown",
   "metadata": {},
   "source": [
    "###### The file loaded below was downloaded from CABI.org, with links to all datasheets available."
   ]
  },
  {
   "cell_type": "code",
   "execution_count": 4,
   "metadata": {},
   "outputs": [
    {
     "data": {
      "text/html": [
       "<div>\n",
       "<style scoped>\n",
       "    .dataframe tbody tr th:only-of-type {\n",
       "        vertical-align: middle;\n",
       "    }\n",
       "\n",
       "    .dataframe tbody tr th {\n",
       "        vertical-align: top;\n",
       "    }\n",
       "\n",
       "    .dataframe thead th {\n",
       "        text-align: right;\n",
       "    }\n",
       "</style>\n",
       "<table border=\"1\" class=\"dataframe\">\n",
       "  <thead>\n",
       "    <tr style=\"text-align: right;\">\n",
       "      <th></th>\n",
       "      <th>Scientific name</th>\n",
       "      <th>Common name</th>\n",
       "      <th>Coverage</th>\n",
       "      <th>URL</th>\n",
       "      <th>DistributionMap</th>\n",
       "    </tr>\n",
       "  </thead>\n",
       "  <tbody>\n",
       "    <tr>\n",
       "      <th>0</th>\n",
       "      <td>Daphnia longispina</td>\n",
       "      <td>NaN</td>\n",
       "      <td>Full</td>\n",
       "      <td>https://www.cabi.org/isc/datasheet/86427</td>\n",
       "      <td>0</td>\n",
       "    </tr>\n",
       "    <tr>\n",
       "      <th>1</th>\n",
       "      <td>Anaplasma centrale</td>\n",
       "      <td>NaN</td>\n",
       "      <td>Full</td>\n",
       "      <td>https://www.cabi.org/isc/datasheet/94680</td>\n",
       "      <td>0</td>\n",
       "    </tr>\n",
       "    <tr>\n",
       "      <th>2</th>\n",
       "      <td>Anaplasma mesaeterum</td>\n",
       "      <td>NaN</td>\n",
       "      <td>Full</td>\n",
       "      <td>https://www.cabi.org/isc/datasheet/94681</td>\n",
       "      <td>0</td>\n",
       "    </tr>\n",
       "    <tr>\n",
       "      <th>3</th>\n",
       "      <td>Homeria</td>\n",
       "      <td>NaN</td>\n",
       "      <td>Basic</td>\n",
       "      <td>https://www.cabi.org/isc/datasheet/101541</td>\n",
       "      <td>0</td>\n",
       "    </tr>\n",
       "    <tr>\n",
       "      <th>4</th>\n",
       "      <td>Hucho</td>\n",
       "      <td>NaN</td>\n",
       "      <td>Basic</td>\n",
       "      <td>https://www.cabi.org/isc/datasheet/101560</td>\n",
       "      <td>0</td>\n",
       "    </tr>\n",
       "  </tbody>\n",
       "</table>\n",
       "</div>"
      ],
      "text/plain": [
       "        Scientific name Common name Coverage  \\\n",
       "0    Daphnia longispina         NaN     Full   \n",
       "1    Anaplasma centrale         NaN     Full   \n",
       "2  Anaplasma mesaeterum         NaN     Full   \n",
       "3               Homeria         NaN    Basic   \n",
       "4                 Hucho         NaN    Basic   \n",
       "\n",
       "                                         URL  DistributionMap  \n",
       "0   https://www.cabi.org/isc/datasheet/86427                0  \n",
       "1   https://www.cabi.org/isc/datasheet/94680                0  \n",
       "2   https://www.cabi.org/isc/datasheet/94681                0  \n",
       "3  https://www.cabi.org/isc/datasheet/101541                0  \n",
       "4  https://www.cabi.org/isc/datasheet/101560                0  "
      ]
     },
     "metadata": {},
     "output_type": "display_data"
    },
    {
     "data": {
      "text/plain": [
       "(10868, 5)"
      ]
     },
     "execution_count": 4,
     "metadata": {},
     "output_type": "execute_result"
    }
   ],
   "source": [
    "os.chdir(\"C:/Users/wliang5/Desktop/cabi\")\n",
    "\n",
    "dt=pd.read_csv('urlCABIsheet.csv',sep=',',header=0,encoding = \"ISO-8859-1\")\n",
    "dt.shape\n",
    "dt.head()\n",
    "\n",
    "# create a new column \"DistributionMap\", and its value will be signed as 1 for species with distribution map available\n",
    "dt[\"DistributionMap\"]=0\n",
    "display(dt.head())\n",
    "dt.shape"
   ]
  },
  {
   "cell_type": "markdown",
   "metadata": {},
   "source": [
    "###### Define a function to check availablity of distribution map. The function only takes i as input to make parallel processing possible later."
   ]
  },
  {
   "cell_type": "code",
   "execution_count": 5,
   "metadata": {},
   "outputs": [],
   "source": [
    "def mapCheck2(i):\n",
    "    \n",
    "    import requests\n",
    "    from bs4 import BeautifulSoup\n",
    "\n",
    "    url=dt[\"URL\"][i]\n",
    "    page = requests.get(url)\n",
    "    soup = BeautifulSoup(page.content, 'html.parser')\n",
    "    maps = soup.find(id='toDistributionMaps')\n",
    "\n",
    "    try:\n",
    "        n=len(maps)\n",
    "    except :\n",
    "        n=-1\n",
    "\n",
    "    if n!= -1:\n",
    "        dt.loc[i,\"DistributionMap\"]=1\n",
    "    return dt\n",
    "        "
   ]
  },
  {
   "cell_type": "markdown",
   "metadata": {},
   "source": [
    "###### Set up parallels and record processing time. Just for illustration purpose, only run the function for the first 100 datasheet. I guess this code can be changed to find other available information on the websites. "
   ]
  },
  {
   "cell_type": "code",
   "execution_count": 6,
   "metadata": {},
   "outputs": [
    {
     "data": {
      "text/plain": [
       "20.767117738723755"
      ]
     },
     "execution_count": 6,
     "metadata": {},
     "output_type": "execute_result"
    }
   ],
   "source": [
    "ncores=multiprocessing.cpu_count()-2\n",
    "\n",
    "start=time.time()\n",
    "\n",
    "re=Parallel(n_jobs=ncores)(delayed(mapCheck2)(i) for i in np.arange(100))\n",
    "\n",
    "end=time.time()\n",
    "end-start\n",
    "\n",
    "#np.savetxt(\"CabiDistributionMap.csv\",re,  delimiter=', ',header=\"'Scientific name','Common name','Coverage','URL','DistributionMap'\")"
   ]
  },
  {
   "cell_type": "markdown",
   "metadata": {},
   "source": [
    "###### 21s, pretty quick."
   ]
  }
 ],
 "metadata": {
  "kernelspec": {
   "display_name": "Python 3",
   "language": "python",
   "name": "python3"
  },
  "language_info": {
   "codemirror_mode": {
    "name": "ipython",
    "version": 3
   },
   "file_extension": ".py",
   "mimetype": "text/x-python",
   "name": "python",
   "nbconvert_exporter": "python",
   "pygments_lexer": "ipython3",
   "version": "3.7.5"
  }
 },
 "nbformat": 4,
 "nbformat_minor": 2
}
